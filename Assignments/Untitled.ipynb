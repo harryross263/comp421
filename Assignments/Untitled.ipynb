{
 "cells": [
  {
   "cell_type": "code",
   "execution_count": 14,
   "metadata": {
    "collapsed": false
   },
   "outputs": [],
   "source": [
    "import autograd.numpy as np\n",
    "from autograd.util import flatten\n",
    "\n",
    "def init_weights(architecture):\n",
    "    \"\"\"Returns a list of weights for each layer\n",
    "    in the neural network.\n",
    "    \"\"\"\n",
    "    return [(np.random.randn(m, n),\n",
    "             np.random.randn(n)) \n",
    "            for m, n in zip(architecture[:-1], architecture[1:])]"
   ]
  },
  {
   "cell_type": "code",
   "execution_count": 43,
   "metadata": {
    "collapsed": false
   },
   "outputs": [
    {
     "name": "stdout",
     "output_type": "stream",
     "text": [
      "2\n",
      "(64, 2) (2,)\n",
      "(2, 64) (64,)\n"
     ]
    }
   ],
   "source": [
    "architecture = [64, 2, 64]\n",
    "\n",
    "weights = init_weights(architecture)\n",
    "\n",
    "W0, b0 = weights[0]\n",
    "W0_1 = W0[:,:-1]\n",
    "b0_1 = b0[:-1]\n",
    "\n",
    "W1, b1 = weights[1]\n",
    "W1_1 = W1[:-1,:]\n",
    "\n",
    "print(len(weights))\n",
    "for W, b in weights:\n",
    "    print(W.shape, b.shape)"
   ]
  },
  {
   "cell_type": "code",
   "execution_count": 44,
   "metadata": {
    "collapsed": false
   },
   "outputs": [
    {
     "name": "stdout",
     "output_type": "stream",
     "text": [
      "(322,)\n"
     ]
    }
   ],
   "source": [
    "print(flatten(weights)[0].shape)"
   ]
  },
  {
   "cell_type": "code",
   "execution_count": 27,
   "metadata": {
    "collapsed": false
   },
   "outputs": [
    {
     "data": {
      "text/plain": [
       "array([1, 2, 3, 4, 5, 6])"
      ]
     },
     "execution_count": 27,
     "metadata": {},
     "output_type": "execute_result"
    }
   ],
   "source": [
    "x = np.array([[1, 2, 3], [4, 5, 6]])\n",
    "np.ravel(x)"
   ]
  },
  {
   "cell_type": "code",
   "execution_count": 49,
   "metadata": {
    "collapsed": false
   },
   "outputs": [
    {
     "data": {
      "text/plain": [
       "True"
      ]
     },
     "execution_count": 49,
     "metadata": {},
     "output_type": "execute_result"
    }
   ],
   "source": []
  },
  {
   "cell_type": "code",
   "execution_count": null,
   "metadata": {
    "collapsed": true
   },
   "outputs": [],
   "source": []
  }
 ],
 "metadata": {
  "kernelspec": {
   "display_name": "Python 3",
   "language": "python",
   "name": "python3"
  },
  "language_info": {
   "codemirror_mode": {
    "name": "ipython",
    "version": 3
   },
   "file_extension": ".py",
   "mimetype": "text/x-python",
   "name": "python",
   "nbconvert_exporter": "python",
   "pygments_lexer": "ipython3",
   "version": "3.5.1"
  }
 },
 "nbformat": 4,
 "nbformat_minor": 0
}
