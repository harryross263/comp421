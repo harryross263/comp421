{
 "cells": [
  {
   "cell_type": "markdown",
   "metadata": {},
   "source": [
    "# horsing around with the backprop algorithm\n",
    "Marcus started this see how quickly he could get backprop to stand up.\n",
    "\n",
    "Note the use of \"checkgrad\", which exhaustively confirms that the gradient calculation is in fact correct - not something to run all the time but a useful check to have.\n",
    "\n",
    "Issues:\n",
    "  * the neural net has no biases yet\n",
    "  * the learning problem is just random - better if we could read in a training set"
   ]
  },
  {
   "cell_type": "code",
   "execution_count": 2,
   "metadata": {
    "collapsed": false
   },
   "outputs": [],
   "source": [
    "import numpy as np\n",
    "import numpy.random as rng\n",
    "import sklearn\n",
    "import sklearn.datasets as ds\n",
    "import sklearn.cross_validation as cv\n",
    "import sklearn.neighbors as nb\n",
    "import matplotlib.pyplot as plt\n",
    "from sklearn.metrics import log_loss\n",
    "%matplotlib inline\n",
    "np.set_printoptions(precision = 2, suppress = True)"
   ]
  },
  {
   "cell_type": "markdown",
   "metadata": {},
   "source": [
    "### Specify some neuron transfer functions and their derivatives"
   ]
  },
  {
   "cell_type": "code",
   "execution_count": 3,
   "metadata": {
    "collapsed": false
   },
   "outputs": [],
   "source": [
    "def sigmoid(phi):\n",
    "    \"\"\"Calculates the sigmoid of phi.\n",
    "    \n",
    "    phi - A matrix of weighted inputs i.e. np.dot(W, X).\n",
    "    \"\"\"\n",
    "    neg_phi = -1 * phi\n",
    "    \n",
    "    return (1.0 / (1.0 + np.exp(neg_phi)))\n",
    "\n",
    "def grad_sigmoid(x):\n",
    "    \"\"\"Calculates the gradient of the sigmoid function at point x. Note that\n",
    "    this is hard coded to correspond directly to the sigmoid(phi) function\n",
    "    above.\n",
    "    \n",
    "    x - The value of sigmoid(phi) for some phi that we wish to know\n",
    "        the gradient of.\n",
    "    \"\"\"\n",
    "    return (x * (1 - x))\n",
    "    \n",
    "def relu(phi):\n",
    "    \"\"\"Rectified linear transfer function (ReLU).\n",
    "    \n",
    "    phi - A matrix of weighted inputs i.e. np.dot(W, X).\n",
    "    \"\"\"\n",
    "    return phi * (phi > 0.0)\n",
    "\n",
    "def grad_relu(x):\n",
    "    \"\"\"Calculates the gradient of the relu function at point x.\n",
    "    \n",
    "    x - The value of relu(phi) for some phi that we wish to know\n",
    "    the gradient of.\"\"\"\n",
    "    return 1.0 * (x > 0.0)"
   ]
  },
  {
   "cell_type": "code",
   "execution_count": 4,
   "metadata": {
    "collapsed": false
   },
   "outputs": [],
   "source": [
    "# TODO - implement a softmax transfer function.\n",
    "def softmax(phi):\n",
    "    ret = np.zeros(shape=phi.shape)\n",
    "    for x in range(0, phi.shape[0]):\n",
    "        e_x = np.exp(phi[x,:] - np.max(phi[x,:]))\n",
    "        ret[x,:] = (e_x / e_x.sum())\n",
    "    \n",
    "    return ret\n",
    "\n",
    "def grad_softmax(phi):\n",
    "    \"\"\"The gradient of the softmax is phi * (1 - phi) on the\n",
    "    diagonals, and phi * (0 - phi) on the off-diagonals.\n",
    "    \"\"\"\n",
    "    ret = np.zeros(shape=phi.shape)\n",
    "    for i in range(ret.shape[0]):\n",
    "        for j in range(ret.shape[1]):\n",
    "            if i == j:\n",
    "                ret[i, j] = phi[i, j] * (1 - phi[i, j])\n",
    "            else:\n",
    "                ret[i, j] = -1 * phi[i, j] * phi[i, j]\n",
    "    return ret"
   ]
  },
  {
   "cell_type": "markdown",
   "metadata": {},
   "source": [
    "### Get some training data"
   ]
  },
  {
   "cell_type": "code",
   "execution_count": 5,
   "metadata": {
    "collapsed": true
   },
   "outputs": [],
   "source": [
    "def one_hot(X, ndim):\n",
    "    \"\"\"Transforms a vector of real valued targets to a one-hot\n",
    "    target matrix.\n",
    "    \"\"\"\n",
    "    out = np.zeros(shape=(X.shape[0], ndim))\n",
    "    for i in range(0, X.shape[0]):\n",
    "        row = np.zeros(shape=(1, ndim))\n",
    "        row[0, X[i]] = 1\n",
    "        out[i] = row\n",
    "        \n",
    "    return out"
   ]
  },
  {
   "cell_type": "code",
   "execution_count": 6,
   "metadata": {
    "collapsed": false
   },
   "outputs": [
    {
     "name": "stdout",
     "output_type": "stream",
     "text": [
      "(1797, 64) (1797, 10)\n",
      "0.0 16.0\n"
     ]
    }
   ],
   "source": [
    "# Load the sklearn digits data set.\n",
    "digits = ds.load_digits()\n",
    "inputX = digits.data\n",
    "targ = digits.target\n",
    "\n",
    "# Note that targ is currently a vector, but we want a n x 10 matrix,\n",
    "# and so we reshape and then squeeze it into a one-hot distribution.\n",
    "targ = np.reshape(targ, (len(targ), 1))\n",
    "targ = one_hot(targ, ndim=10)\n",
    "\n",
    "print(inputX.shape, targ.shape)\n",
    "print(inputX.min(), inputX.max())"
   ]
  },
  {
   "cell_type": "markdown",
   "metadata": {},
   "source": [
    "### The function we're climbing"
   ]
  },
  {
   "cell_type": "code",
   "execution_count": 7,
   "metadata": {
    "collapsed": false
   },
   "outputs": [],
   "source": [
    "def calc_goodness(Y, targets):\n",
    "    \"\"\"Often this is called the \"Loss\" or the \"Cost function\" (and \n",
    "    given a minus sign accordingly).\n",
    "    \n",
    "    Y -\n",
    "    targets -\n",
    "    \n",
    "    returns good_vec.sum() -\n",
    "            good_vec -\n",
    "            dgood -\n",
    "    \"\"\"\n",
    "    error = targets - Y\n",
    "    \n",
    "    # Inverted parabola centered on the target outputs.\n",
    "    good_vec = -0.5 * np.power(error, 2.0)\n",
    "    \n",
    "    # dGood_vec is the (direction? delta?) of something - if output\n",
    "    # is too low, it will be positive.\n",
    "    dgood = error \n",
    "    \n",
    "    return good_vec.sum(), good_vec, dgood"
   ]
  },
  {
   "cell_type": "markdown",
   "metadata": {},
   "source": [
    "### set the network's architecture"
   ]
  },
  {
   "cell_type": "code",
   "execution_count": 8,
   "metadata": {
    "collapsed": false
   },
   "outputs": [
    {
     "name": "stdout",
     "output_type": "stream",
     "text": [
      "There are this many neurons in each layer:  [64, 15, 15, 10]\n"
     ]
    }
   ],
   "source": [
    "# We have n examples from our inputX data. Each example has inputX.shape[1]\n",
    "# dimensions, and so we need inputX.shape[1] neurons in our input layer.\n",
    "# There are targ.shape[1] different output dimensions, and so we need\n",
    "# targ.shape[1] neurons in our output layer.\n",
    "input_dimensions = inputX.shape[1]\n",
    "output_dimensions = 10\n",
    "\n",
    "architecture = [input_dimensions, 15, 15, output_dimensions]\n",
    "\n",
    "print(\"There are this many neurons in each layer: \", architecture)"
   ]
  },
  {
   "cell_type": "code",
   "execution_count": 9,
   "metadata": {
    "collapsed": false
   },
   "outputs": [
    {
     "name": "stdout",
     "output_type": "stream",
     "text": [
      "layer 0 activations have shape (1797, 64)\n",
      "layer 1 activations have shape (1797, 15)\n",
      "layer 2 activations have shape (1797, 15)\n",
      "layer 3 activations have shape (1797, 10)\n"
     ]
    }
   ],
   "source": [
    "# X is going to be a list giving the activations of successive layers. \n",
    "# Each element in X is a matrix, whose columns are the neurons in the\n",
    "# layer corresponding to the elements index within X. Each row in the\n",
    "# matrix corresponds to a training item, so all the matrices in X will\n",
    "# have the same number of rows.\n",
    "X = [inputX]\n",
    "n = inputX.shape[0] # The number of examples that we have.\n",
    "\n",
    "for L in range(1, len(architecture)):\n",
    "    X.append(np.zeros(shape=(n, architecture[L]), dtype=float))\n",
    "\n",
    "for L in range(len(architecture)): \n",
    "    print(\"layer\", L, \"activations have shape\", X[L].shape)"
   ]
  },
  {
   "cell_type": "markdown",
   "metadata": {},
   "source": [
    "### Set up the weights"
   ]
  },
  {
   "cell_type": "code",
   "execution_count": 10,
   "metadata": {
    "collapsed": false
   },
   "outputs": [
    {
     "name": "stdout",
     "output_type": "stream",
     "text": [
      "layer 0 weights have shape ()\n",
      "layer 1 weights have shape (15, 64)\n",
      "layer 2 weights have shape (15, 15)\n",
      "layer 3 weights have shape (10, 15)\n"
     ]
    }
   ],
   "source": [
    "# Let's index weight layer by the layer they're *going* towards.\n",
    "\n",
    "# Initialise the zero'th weight layers. W is a list of matrices. The element\n",
    "# at index i has the same number of rows as the number of columns in X[i]. i.e.\n",
    "# there is one row for each neuron in the layer that the weights are *going*\n",
    "# towards. Similarly, there is a column for each neuron in the layer that the\n",
    "# weights are *coming* from.\n",
    "W  = [np.array(None)]\n",
    "dW = [np.array(None)]\n",
    "\n",
    "init_weights_scale = 0.1  # 1 / np.sqrt((X[L].shape()).max())\n",
    "\n",
    "for layer in range(1, len(X)):\n",
    "    # There is a weight from each neuron in the previous layer to each neuron\n",
    "    # in the current layer.\n",
    "    in_dimension = X[layer - 1].shape[1]\n",
    "    out_dimension = X[layer].shape[1]\n",
    "    \n",
    "    W.append(init_weights_scale * rng.normal(0, 1, size=(out_dimension, in_dimension)))\n",
    "    \n",
    "    # The change in weights is initially zero, although we want to maintain\n",
    "    # the dimensionality of the weights matrix that we just constructed.\n",
    "    dW.append(0.0 * np.copy(W[layer]))\n",
    "\n",
    "for L in range(len(W)):\n",
    "    print(\"layer\", L, \"weights have shape\", W[L].shape)"
   ]
  },
  {
   "cell_type": "markdown",
   "metadata": {},
   "source": [
    "### Forward pass"
   ]
  },
  {
   "cell_type": "code",
   "execution_count": 11,
   "metadata": {
    "collapsed": false
   },
   "outputs": [],
   "source": [
    "def forward_pass(X, W):\n",
    "    \"\"\"Takes the inputs to each layer, evaluates them with the \n",
    "    corresponding weights and then calculates the activation of\n",
    "    each neuron using the sigmoid function. No learning is done\n",
    "    at this stage, only evaluation of parameters.\n",
    "    \n",
    "    X - A list of matrices describing the inputs to each layer. The\n",
    "        inputs to the first layer (the input layer) is X[0]. In\n",
    "        general, the input to layer i is X[i - 1].\n",
    "    W - List of matrices describing the weights between each layer.\n",
    "        The weights *going* to layer i are indexed by W[i].\n",
    "        \n",
    "    returns X - the input X with new activations.\n",
    "    \"\"\"\n",
    "    for layer in range(1, len(X)):\n",
    "        # Grab the inputs to this layer, and transpose so that we\n",
    "        # can take the dot product of them with the corresponding\n",
    "        # weights.\n",
    "        inputs = X[layer - 1].transpose()\n",
    "        weighted_inputs = np.dot(W[layer], inputs).transpose()\n",
    "        \n",
    "        # The activations (outputs) of this layer are defined by the\n",
    "        # transfer function.\n",
    "        if layer < len(X) - 1:\n",
    "            X[layer] = sigmoid(weighted_inputs)\n",
    "        else:\n",
    "            # Perform softmax across final layer.\n",
    "            X[layer] = softmax(weighted_inputs)\n",
    "    \n",
    "    return X"
   ]
  },
  {
   "cell_type": "markdown",
   "metadata": {},
   "source": [
    "### backward pass"
   ]
  },
  {
   "cell_type": "code",
   "execution_count": 12,
   "metadata": {
    "collapsed": false
   },
   "outputs": [],
   "source": [
    "def backward_pass(X, W, dW, targets):\n",
    "    \"\"\"Evaluates the error of the model, based on the calc_goodness\n",
    "    function and determines the direction and the magnitude of the\n",
    "    weight change needed to optimise.\n",
    "    \n",
    "    X - A list of matrices describing the inputs to each layer. The\n",
    "        inputs to the first layer (the input layer) is X[0]. In\n",
    "        general, the input to layer i is X[i - 1].\n",
    "    W - List of matrices describing the weights between each layer.\n",
    "        The weights *going* to layer i are indexed by W[i].\n",
    "    dW - A list of matrices containing the deltas to each weight layer.\n",
    "    targets - An n x 1 matrix containing the target class for each\n",
    "              example.\n",
    "    \n",
    "    returns dW -\n",
    "    \"\"\"\n",
    "    good_sum, good_vec, dgood = calc_goodness(X[-1], targets)\n",
    "    epsilon = dgood\n",
    "    npats = X[0].shape[0]\n",
    "    \n",
    "    # Then every other layer.\n",
    "    for layer in range(len(X) - 1, 0, -1):\n",
    "        if layer < len(X) - 1:\n",
    "            psi = epsilon * grad_sigmoid(X[layer]) # Element-wise multiply.\n",
    "        else:\n",
    "            psi = epsilon * grad_softmax(X[layer])\n",
    "        n1 = X[layer - 1].shape[1]\n",
    "        n2 = psi.shape[1]\n",
    "        A = np.tile(X[layer - 1], n2).reshape(npats, n2, n1)\n",
    "        B = np.repeat(psi, n1).reshape(npats, n2, n1)\n",
    "        dW[layer] = (A * B).sum(0) # Outer product multiply.\n",
    "        epsilon = np.dot(psi, W[layer]) # Inner product multiply.\n",
    "        \n",
    "    return dW"
   ]
  },
  {
   "cell_type": "code",
   "execution_count": 13,
   "metadata": {
    "collapsed": false
   },
   "outputs": [],
   "source": [
    "X = forward_pass(X, W)\n",
    "dW = backward_pass(X, W, dW, targ)"
   ]
  },
  {
   "cell_type": "code",
   "execution_count": 14,
   "metadata": {
    "collapsed": false
   },
   "outputs": [],
   "source": [
    "def checkgrad(dW, X, W, targets):\n",
    "    \"\"\"Calculates the gradient directly, via pertubations to every weight.\n",
    "    This is completely daft in practical terms, but is very useful for debugging\n",
    "    as it tells us whether the backprop of errors is returning the true gradient.\n",
    "    \n",
    "    dW -\n",
    "    X -\n",
    "    W -\n",
    "    targets -\n",
    "    \n",
    "    returns None\n",
    "    \"\"\"\n",
    "    epsilon = 0.0001\n",
    "    \n",
    "    dW_test = [np.array(None)]\n",
    "    for L in range(1,len(W)):\n",
    "        dW_test.append(0.0*np.copy(W[L]))\n",
    "    \n",
    "    X = forward_pass(X, W)\n",
    "    base_good, tmp1, tmp2 = calc_goodness(X[-1], targets)\n",
    "    \n",
    "    for layer in range(1, len(X)):\n",
    "        # For each destination node.\n",
    "        for j in range(W[layer].shape[0]):\n",
    "            # For each origin node.\n",
    "            for i in range(W[layer].shape[1]):\n",
    "                # Perturb the weight from (layer - 1, i) -> (layer, j).\n",
    "                (W[layer])[j, i] += epsilon\n",
    "                # Compute and store the empirical gradient estimate.\n",
    "                X = forward_pass(X, W)\n",
    "                tmp_good, tmp1, tmp2 = calc_goodness(X[-1], targets)\n",
    "                (dW_test[layer])[j, i] = (tmp_good - base_good) / epsilon                \n",
    "                # Unperturb the weight.\n",
    "                (W[layer])[j, i] -= epsilon\n",
    "                \n",
    "    # Print the results for analysis.\n",
    "    for L in range(1, len(X)):\n",
    "        print ('-------------- layer %d --------------' %(L))\n",
    "        print ('calculated gradients:')\n",
    "        print (dW[L])\n",
    "        print ('empirical gradients:')\n",
    "        print (dW_test[L])"
   ]
  },
  {
   "cell_type": "code",
   "execution_count": 15,
   "metadata": {
    "collapsed": false
   },
   "outputs": [
    {
     "name": "stdout",
     "output_type": "stream",
     "text": [
      "-------------- layer 1 --------------\n",
      "calculated gradients:\n",
      "[[ 0.    0.    0.02  0.02  0.01  0.02  0.01 -0.   -0.    0.01  0.03  0.\n",
      "   0.01  0.02  0.   -0.   -0.    0.01  0.02 -0.01 -0.01 -0.   -0.   -0.   -0.\n",
      "   0.01  0.02  0.   -0.01 -0.   -0.   -0.    0.   -0.   -0.   -0.02 -0.03\n",
      "   0.    0.01  0.   -0.   -0.   -0.01 -0.03 -0.02  0.01  0.02  0.   -0.    0.\n",
      "   0.01 -0.   -0.    0.02  0.01 -0.   -0.    0.    0.02  0.02  0.01  0.01\n",
      "  -0.   -0.  ]\n",
      " [ 0.   -0.01 -0.05 -0.02 -0.04 -0.08 -0.03 -0.    0.   -0.01 -0.05 -0.01\n",
      "   0.01  0.   -0.01 -0.    0.   -0.03 -0.05  0.02  0.06  0.05  0.01  0.    0.\n",
      "  -0.04 -0.07 -0.01  0.02  0.01 -0.    0.    0.   -0.02 -0.03  0.02  0.\n",
      "  -0.02 -0.01  0.    0.    0.    0.04  0.04 -0.02 -0.03  0.01  0.    0.   -0.\n",
      "   0.02  0.01 -0.04  0.    0.03  0.    0.   -0.01 -0.05 -0.03  0.03  0.06\n",
      "   0.03  0.  ]\n",
      " [ 0.    0.    0.01  0.04  0.04  0.03  0.01  0.   -0.   -0.    0.02  0.05\n",
      "   0.04  0.02  0.    0.    0.   -0.    0.01  0.04  0.02 -0.   -0.   -0.    0.\n",
      "   0.01  0.03  0.05  0.03 -0.   -0.   -0.    0.    0.01  0.03  0.04  0.04\n",
      "   0.02  0.    0.   -0.    0.    0.02  0.01  0.03  0.03  0.01 -0.   -0.   -0.\n",
      "   0.02  0.03  0.03  0.02 -0.    0.   -0.    0.    0.02  0.04  0.04  0.01\n",
      "  -0.    0.  ]\n",
      " [ 0.    0.   -0.   -0.    0.    0.    0.   -0.    0.   -0.   -0.    0.    0.\n",
      "   0.    0.   -0.   -0.   -0.    0.    0.    0.    0.    0.   -0.    0.    0.\n",
      "   0.    0.    0.    0.    0.   -0.    0.    0.    0.    0.    0.    0.    0.\n",
      "   0.   -0.    0.    0.   -0.    0.    0.    0.   -0.   -0.   -0.   -0.   -0.\n",
      "   0.    0.    0.   -0.   -0.   -0.   -0.   -0.    0.    0.   -0.   -0.  ]\n",
      " [ 0.    0.    0.    0.01  0.02  0.01 -0.   -0.    0.    0.    0.01  0.01\n",
      "   0.    0.02  0.01 -0.    0.    0.    0.    0.    0.01  0.01  0.    0.    0.\n",
      "  -0.    0.    0.01  0.01 -0.   -0.    0.    0.    0.    0.01  0.02  0.03\n",
      "   0.   -0.01  0.    0.    0.    0.02  0.02  0.02  0.01 -0.01 -0.   -0.    0.\n",
      "   0.01  0.01  0.01  0.01 -0.   -0.   -0.    0.    0.01  0.02  0.01  0.   -0.\n",
      "  -0.  ]\n",
      " [ 0.   -0.   -0.   -0.   -0.01 -0.01 -0.    0.   -0.    0.   -0.   -0.01\n",
      "  -0.01 -0.01  0.    0.    0.   -0.   -0.   -0.01 -0.01  0.    0.    0.    0.\n",
      "  -0.   -0.01 -0.01 -0.01  0.01  0.01  0.    0.    0.   -0.01 -0.01 -0.01\n",
      "   0.    0.    0.    0.   -0.   -0.01 -0.01 -0.01 -0.    0.    0.    0.    0.\n",
      "  -0.01 -0.01 -0.01 -0.    0.    0.    0.   -0.   -0.   -0.01 -0.01  0.    0.\n",
      "   0.  ]\n",
      " [ 0.    0.    0.    0.    0.   -0.    0.    0.   -0.    0.    0.    0.    0.\n",
      "   0.    0.    0.   -0.    0.    0.   -0.   -0.    0.    0.    0.   -0.   -0.\n",
      "  -0.   -0.    0.    0.   -0.    0.    0.   -0.   -0.   -0.   -0.   -0.    0.\n",
      "   0.    0.   -0.   -0.   -0.   -0.   -0.    0.    0.    0.    0.    0.    0.\n",
      "  -0.   -0.    0.    0.    0.    0.    0.    0.   -0.    0.    0.    0.  ]\n",
      " [ 0.    0.    0.04  0.06  0.04  0.05  0.02 -0.   -0.    0.02  0.08  0.02\n",
      "   0.01  0.04  0.01 -0.   -0.    0.03  0.06 -0.03 -0.04  0.   -0.01 -0.   -0.\n",
      "   0.03  0.05  0.01 -0.01  0.    0.   -0.    0.   -0.    0.01 -0.01 -0.03\n",
      "   0.02  0.02  0.   -0.   -0.01 -0.01 -0.05 -0.05  0.02  0.04  0.   -0.   -0.\n",
      "   0.03  0.02 -0.01  0.04  0.02 -0.   -0.    0.    0.05  0.06  0.01  0.01\n",
      "  -0.01 -0.01]\n",
      " [ 0.    0.    0.03  0.05  0.06  0.04  0.01  0.    0.    0.01  0.04  0.03\n",
      "   0.06  0.07  0.01  0.    0.   -0.   -0.02  0.01  0.07  0.06  0.01  0.   -0.\n",
      "  -0.01 -0.04  0.03  0.07  0.03  0.   -0.    0.   -0.01 -0.01  0.04  0.06\n",
      "   0.03  0.01  0.   -0.   -0.    0.01  0.02  0.03  0.03  0.01 -0.   -0.    0.\n",
      "   0.02  0.03  0.03  0.03  0.    0.   -0.    0.    0.03  0.05  0.03  0.02\n",
      "   0.    0.  ]\n",
      " [ 0.    0.    0.02 -0.02 -0.01  0.02  0.02 -0.   -0.    0.01  0.01 -0.03\n",
      "  -0.03 -0.03 -0.   -0.   -0.    0.02  0.02 -0.02 -0.04 -0.05 -0.01  0.   -0.\n",
      "   0.01  0.02  0.01 -0.01 -0.03 -0.02  0.    0.   -0.01 -0.04 -0.05 -0.05\n",
      "  -0.02 -0.01  0.    0.   -0.01 -0.06 -0.05 -0.03 -0.01 -0.01 -0.   -0.    0.\n",
      "  -0.02 -0.05 -0.   -0.01 -0.02 -0.   -0.    0.    0.02 -0.01 -0.02 -0.04\n",
      "  -0.01 -0.  ]\n",
      " [ 0.    0.    0.01  0.03  0.02 -0.01 -0.   -0.   -0.    0.01  0.06  0.03\n",
      "   0.    0.01 -0.   -0.   -0.    0.02  0.09 -0.02 -0.05  0.03  0.01 -0.   -0.\n",
      "   0.02  0.06 -0.03 -0.05  0.03  0.02 -0.    0.    0.02  0.04 -0.03 -0.05\n",
      "   0.04  0.03  0.   -0.    0.01  0.07 -0.02 -0.06  0.05  0.06  0.   -0.    0.\n",
      "   0.07  0.02 -0.02  0.08  0.06 -0.    0.    0.    0.01  0.03  0.05  0.07\n",
      "   0.02 -0.01]\n",
      " [ 0.    0.    0.01  0.03  0.05  0.04  0.02  0.   -0.    0.    0.02  0.05\n",
      "   0.05  0.03  0.01  0.    0.    0.    0.03  0.04  0.03  0.02  0.    0.    0.\n",
      "   0.01  0.04  0.04  0.04  0.03  0.01  0.    0.    0.02  0.05  0.05  0.06\n",
      "   0.04  0.01  0.    0.    0.01  0.02  0.05  0.06  0.02  0.   -0.    0.    0.\n",
      "   0.    0.04  0.04  0.   -0.   -0.   -0.    0.    0.02  0.03  0.02  0.01\n",
      "  -0.   -0.  ]\n",
      " [ 0.   -0.    0.01  0.04  0.06  0.03  0.01  0.    0.   -0.    0.03  0.05\n",
      "   0.03  0.03  0.01  0.    0.    0.    0.04  0.04  0.01  0.03  0.01  0.    0.\n",
      "   0.02  0.06  0.04  0.04  0.04  0.02  0.    0.    0.02  0.06  0.05  0.06\n",
      "   0.05  0.01  0.    0.    0.01  0.03  0.04  0.06  0.03  0.   -0.    0.    0.\n",
      "   0.01  0.03  0.04  0.   -0.01  0.   -0.   -0.    0.01  0.04  0.03 -0.01\n",
      "  -0.01 -0.  ]\n",
      " [ 0.    0.    0.03  0.05  0.05  0.05  0.01  0.    0.    0.01  0.05  0.03\n",
      "   0.03  0.03  0.01  0.    0.    0.01  0.02  0.    0.02  0.02  0.   -0.   -0.\n",
      "   0.01  0.02  0.03  0.04  0.02  0.01 -0.    0.    0.    0.02  0.04  0.04\n",
      "   0.03  0.01  0.   -0.   -0.   -0.    0.02  0.03  0.02  0.   -0.   -0.    0.\n",
      "   0.01  0.03  0.02  0.01 -0.   -0.   -0.    0.    0.04  0.05  0.01 -0.01\n",
      "  -0.    0.  ]\n",
      " [ 0.   -0.   -0.01 -0.01 -0.01 -0.01 -0.   -0.   -0.   -0.01 -0.01 -0.01\n",
      "   0.    0.   -0.    0.    0.   -0.01 -0.02 -0.    0.01  0.01  0.   -0.   -0.\n",
      "  -0.01 -0.02 -0.01  0.    0.01  0.   -0.    0.   -0.   -0.   -0.   -0.    0.\n",
      "   0.    0.   -0.   -0.    0.   -0.   -0.01 -0.   -0.    0.   -0.   -0.   -0.\n",
      "  -0.01 -0.01 -0.   -0.    0.    0.   -0.   -0.01 -0.01 -0.    0.    0.    0.  ]]\n",
      "empirical gradients:\n",
      "[[ 0.   -0.02 -0.19 -0.08 -0.08 -0.22 -0.07  0.01  0.   -0.07 -0.25  0.02\n",
      "  -0.07 -0.14 -0.03  0.01  0.   -0.12 -0.14  0.09  0.13  0.04  0.05  0.01\n",
      "   0.   -0.08 -0.12 -0.06  0.13  0.04  0.03  0.    0.    0.07  0.09  0.22\n",
      "   0.28 -0.   -0.05  0.    0.    0.06  0.2   0.29  0.24 -0.07 -0.14  0.    0.\n",
      "  -0.   -0.06  0.09  0.08 -0.16 -0.04  0.01  0.   -0.02 -0.2  -0.11 -0.02\n",
      "  -0.03  0.05  0.02]\n",
      " [ 0.    0.04  0.43  0.28  0.38  0.65  0.28  0.01 -0.    0.1   0.54  0.15\n",
      "  -0.01  0.12  0.08  0.   -0.    0.23  0.54 -0.17 -0.52 -0.3  -0.03 -0.   -0.\n",
      "   0.38  0.66  0.08 -0.22  0.06  0.1  -0.    0.    0.2   0.32 -0.3  -0.09\n",
      "   0.32  0.17  0.   -0.    0.02 -0.32 -0.43  0.16  0.36 -0.01 -0.   -0.    0.\n",
      "  -0.1  -0.03  0.4   0.05 -0.3  -0.02 -0.    0.04  0.47  0.39 -0.17 -0.54\n",
      "  -0.29 -0.04]\n",
      " [ 0.    0.   -0.1  -0.33 -0.32 -0.26 -0.08 -0.    0.    0.05 -0.09 -0.33\n",
      "  -0.27 -0.18 -0.03  0.   -0.    0.04 -0.01 -0.34 -0.2   0.03  0.05  0.   -0.\n",
      "  -0.05 -0.23 -0.47 -0.28  0.03  0.05  0.    0.   -0.02 -0.26 -0.32 -0.33\n",
      "  -0.19 -0.03  0.    0.    0.02 -0.05 -0.04 -0.2  -0.23 -0.09  0.    0.\n",
      "   0.02 -0.05 -0.18 -0.22 -0.15  0.03 -0.01  0.    0.   -0.11 -0.34 -0.29\n",
      "  -0.03  0.08 -0.03]\n",
      " [ 0.   -0.    0.    0.01 -0.02 -0.04 -0.01  0.   -0.    0.    0.01 -0.01\n",
      "  -0.02 -0.03 -0.01  0.    0.   -0.   -0.02 -0.04 -0.02 -0.03 -0.01  0.   -0.\n",
      "  -0.   -0.02 -0.02 -0.01 -0.03 -0.   -0.    0.   -0.   -0.01 -0.   -0.02\n",
      "  -0.04 -0.    0.    0.   -0.   -0.    0.01 -0.02 -0.04 -0.01  0.    0.    0.\n",
      "   0.    0.01 -0.02 -0.04 -0.01  0.    0.   -0.    0.    0.01 -0.01 -0.02\n",
      "   0.01  0.01]\n",
      " [ 0.   -0.01 -0.08 -0.19 -0.21 -0.11  0.    0.   -0.   -0.04 -0.17 -0.14\n",
      "  -0.07 -0.21 -0.06  0.   -0.   -0.02 -0.04 -0.02 -0.08 -0.16 -0.03 -0.   -0.\n",
      "   0.01 -0.01 -0.11 -0.19 -0.01  0.04 -0.    0.   -0.02 -0.1  -0.26 -0.33\n",
      "  -0.03  0.06  0.   -0.   -0.02 -0.22 -0.18 -0.19 -0.16  0.03  0.    0.\n",
      "  -0.01 -0.17 -0.12 -0.1  -0.13 -0.    0.    0.   -0.   -0.09 -0.22 -0.15\n",
      "  -0.05  0.01  0.  ]\n",
      " [ 0.    0.    0.03  0.06  0.11  0.1   0.   -0.01  0.   -0.    0.04  0.08\n",
      "   0.1   0.1   0.   -0.01 -0.    0.02  0.06  0.12  0.07  0.01 -0.03 -0.01\n",
      "  -0.    0.02  0.08  0.15  0.08 -0.05 -0.06 -0.    0.   -0.01  0.05  0.09\n",
      "   0.09 -0.01 -0.02  0.   -0.    0.01  0.08  0.05  0.09  0.08  0.   -0.   -0.\n",
      "   0.    0.08  0.06  0.09  0.07 -0.02 -0.   -0.    0.    0.02  0.08  0.11\n",
      "   0.02 -0.03 -0.01]\n",
      " [ 0.   -0.   -0.02 -0.04 -0.04  0.   -0.   -0.    0.   -0.01 -0.04 -0.04\n",
      "  -0.03 -0.01 -0.   -0.    0.   -0.   -0.02 -0.01 -0.02 -0.03 -0.01 -0.    0.\n",
      "   0.   -0.01 -0.03 -0.03 -0.05 -0.02 -0.    0.   -0.    0.   -0.   -0.\n",
      "  -0.04 -0.01  0.   -0.   -0.01 -0.   -0.02 -0.02 -0.02 -0.01 -0.   -0.   -0.\n",
      "  -0.02 -0.02 -0.03 -0.03 -0.02 -0.   -0.   -0.   -0.02 -0.04 -0.04 -0.02\n",
      "  -0.01 -0.01]\n",
      " [ 0.   -0.03 -0.35 -0.52 -0.35 -0.48 -0.18  0.    0.   -0.12 -0.73 -0.24\n",
      "  -0.11 -0.43 -0.08  0.01  0.   -0.3  -0.66  0.26  0.39 -0.08  0.02  0.01\n",
      "   0.   -0.29 -0.52 -0.11  0.18 -0.04 -0.08  0.    0.   -0.01 -0.11  0.19\n",
      "   0.34 -0.17 -0.23  0.    0.01  0.13  0.09  0.53  0.48 -0.23 -0.35 -0.    0.\n",
      "   0.01 -0.33 -0.14  0.1  -0.39 -0.11  0.02  0.   -0.03 -0.39 -0.56 -0.13\n",
      "  -0.07  0.14  0.09]\n",
      " [ 0.   -0.01 -0.31 -0.5  -0.6  -0.44 -0.09 -0.02 -0.   -0.14 -0.4  -0.21\n",
      "  -0.56 -0.73 -0.15 -0.01 -0.   -0.    0.27  0.01 -0.76 -0.56 -0.05 -0.    0.\n",
      "   0.15  0.43 -0.31 -0.78 -0.27 -0.    0.    0.    0.14  0.23 -0.28 -0.61\n",
      "  -0.32 -0.03  0.    0.    0.05  0.15 -0.08 -0.28 -0.26 -0.02  0.01  0.\n",
      "  -0.01 -0.1  -0.22 -0.22 -0.24 -0.01  0.    0.   -0.01 -0.37 -0.46 -0.23\n",
      "  -0.1   0.03 -0.01]\n",
      " [ 0.   -0.02 -0.16  0.23  0.11 -0.15 -0.13  0.01  0.   -0.1  -0.05  0.27\n",
      "   0.27  0.31  0.03  0.    0.   -0.12 -0.11  0.12  0.3   0.45  0.09 -0.    0.\n",
      "  -0.09 -0.1  -0.08  0.1   0.22  0.15 -0.    0.    0.06  0.37  0.42  0.4\n",
      "   0.16  0.08  0.   -0.    0.07  0.54  0.44  0.22  0.05  0.08  0.    0.\n",
      "  -0.03  0.21  0.44  0.03  0.13  0.18  0.02  0.   -0.03 -0.15  0.09  0.14\n",
      "   0.31  0.13  0.04]\n",
      " [ 0.   -0.01 -0.16 -0.64 -0.44  0.1   0.06  0.    0.   -0.05 -0.87 -0.75\n",
      "  -0.36 -0.38  0.02  0.01  0.   -0.27 -1.31 -0.09  0.47 -0.56 -0.19  0.01\n",
      "   0.   -0.35 -1.03  0.29  0.6  -0.45 -0.38  0.    0.   -0.37 -0.86  0.16\n",
      "   0.45 -0.57 -0.49  0.    0.   -0.21 -1.17 -0.02  0.52 -0.84 -0.77 -0.01\n",
      "   0.   -0.06 -1.14 -0.59 -0.15 -1.16 -0.71  0.03 -0.   -0.01 -0.16 -0.62\n",
      "  -0.92 -0.91 -0.25  0.1 ]\n",
      " [ 0.   -0.01 -0.11 -0.28 -0.51 -0.42 -0.19 -0.02  0.   -0.02 -0.15 -0.43\n",
      "  -0.41 -0.26 -0.13 -0.01 -0.   -0.01 -0.2  -0.38 -0.3  -0.16 -0.04 -0.   -0.\n",
      "  -0.09 -0.36 -0.42 -0.46 -0.33 -0.12 -0.    0.   -0.15 -0.43 -0.53 -0.65\n",
      "  -0.43 -0.12  0.   -0.   -0.1  -0.18 -0.52 -0.62 -0.19  0.02  0.   -0.\n",
      "  -0.01  0.04 -0.37 -0.37  0.03  0.04  0.    0.   -0.02 -0.15 -0.27 -0.18\n",
      "  -0.04  0.02  0.  ]\n",
      " [ 0.    0.01 -0.06 -0.37 -0.58 -0.33 -0.1  -0.01 -0.    0.03 -0.23 -0.5\n",
      "  -0.35 -0.35 -0.12 -0.01 -0.   -0.02 -0.37 -0.35 -0.18 -0.34 -0.13 -0.01\n",
      "  -0.   -0.17 -0.52 -0.4  -0.38 -0.46 -0.24 -0.    0.   -0.24 -0.6  -0.53\n",
      "  -0.6  -0.5  -0.17  0.   -0.   -0.14 -0.34 -0.38 -0.61 -0.34 -0.01  0.   -0.\n",
      "  -0.01 -0.06 -0.28 -0.42 -0.01  0.12  0.    0.    0.01 -0.08 -0.4  -0.27\n",
      "   0.1   0.1   0.  ]\n",
      " [ 0.   -0.03 -0.32 -0.46 -0.49 -0.42 -0.11 -0.   -0.   -0.14 -0.46 -0.31\n",
      "  -0.33 -0.35 -0.07 -0.   -0.   -0.12 -0.17 -0.01 -0.24 -0.21 -0.    0.    0.\n",
      "  -0.06 -0.15 -0.32 -0.43 -0.23 -0.07  0.    0.   -0.   -0.2  -0.36 -0.4\n",
      "  -0.27 -0.08  0.    0.    0.01  0.01 -0.22 -0.26 -0.17 -0.02  0.    0.\n",
      "  -0.02 -0.08 -0.3  -0.22 -0.09  0.01  0.    0.   -0.02 -0.37 -0.44 -0.1\n",
      "   0.03  0.02 -0.  ]\n",
      " [ 0.    0.01  0.04  0.02  0.01  0.02  0.01  0.    0.    0.04  0.06  0.04\n",
      "  -0.03 -0.05 -0.01 -0.   -0.    0.08  0.15  0.03 -0.07 -0.07 -0.    0.    0.\n",
      "   0.07  0.11  0.02 -0.06 -0.08 -0.05  0.    0.    0.02  0.02  0.01 -0.01\n",
      "  -0.02 -0.02  0.    0.    0.   -0.01 -0.01  0.04  0.02  0.   -0.    0.\n",
      "   0.01  0.01  0.02  0.07  0.01  0.    0.    0.    0.01  0.04  0.05  0.02\n",
      "   0.    0.    0.  ]]\n",
      "-------------- layer 2 --------------\n",
      "calculated gradients:\n",
      "[[ 0.02 -0.01 -0.05  0.    0.01  0.   -0.01  0.07 -0.04  0.   -0.01  0.03\n",
      "  -0.03  0.02  0.01]\n",
      " [ 0.02  0.03 -0.03  0.01  0.   -0.01  0.01  0.    0.01 -0.01 -0.01  0.04\n",
      "  -0.04  0.01  0.01]\n",
      " [ 0.05  0.    0.04  0.01 -0.08 -0.02  0.02 -0.04  0.02  0.    0.04  0.01\n",
      "   0.02  0.02  0.01]\n",
      " [-0.01 -0.04  0.01  0.03  0.03  0.03  0.04  0.02  0.02  0.03  0.01  0.02\n",
      "   0.03  0.01  0.03]\n",
      " [ 0.03 -0.02 -0.01  0.01  0.01 -0.06  0.01 -0.03  0.01 -0.04  0.03 -0.02\n",
      "   0.01  0.   -0.  ]\n",
      " [ 0.04  0.02 -0.06  0.04  0.05 -0.03  0.03  0.05  0.    0.02 -0.02  0.05\n",
      "  -0.03  0.05  0.04]\n",
      " [-0.04 -0.02  0.08  0.01 -0.02  0.06  0.01  0.    0.    0.02  0.   -0.01\n",
      "   0.05 -0.02 -0.  ]\n",
      " [ 0.    0.06  0.03  0.04 -0.02  0.03  0.05 -0.02  0.03  0.02  0.03  0.06\n",
      "  -0.05  0.03  0.04]\n",
      " [-0.03  0.01  0.01 -0.01  0.    0.02 -0.01 -0.01  0.02  0.    0.   -0.02\n",
      "  -0.01 -0.02 -0.01]\n",
      " [-0.02  0.   -0.02 -0.02  0.03 -0.01 -0.02 -0.02  0.01  0.   -0.02 -0.03\n",
      "  -0.   -0.02 -0.02]\n",
      " [ 0.06 -0.06 -0.03  0.04  0.   -0.01  0.04  0.04 -0.01  0.04  0.01  0.02\n",
      "   0.04  0.05  0.04]\n",
      " [ 0.02 -0.03  0.01 -0.01 -0.05  0.01 -0.   -0.02 -0.01 -0.01  0.03 -0.01\n",
      "   0.02 -0.   -0.  ]\n",
      " [ 0.06 -0.03 -0.01  0.04 -0.03 -0.02  0.04  0.05 -0.    0.01  0.02  0.06\n",
      "   0.02  0.04  0.04]\n",
      " [ 0.01  0.05 -0.01 -0.   -0.   -0.02 -0.01 -0.03  0.02 -0.01  0.   -0.01\n",
      "  -0.04  0.01 -0.01]\n",
      " [ 0.02  0.01 -0.    0.06  0.01  0.02  0.06  0.03 -0.01  0.04  0.02  0.05\n",
      "  -0.03  0.06  0.06]]\n",
      "empirical gradients:\n",
      "[[-0.25  0.12  0.34 -0.12 -0.05 -0.13 -0.08 -0.7   0.42 -0.1   0.03 -0.39\n",
      "   0.2  -0.29 -0.22]\n",
      " [-0.28 -0.32  0.23 -0.23  0.04  0.11 -0.24 -0.03 -0.19 -0.02 -0.   -0.55\n",
      "   0.41 -0.24 -0.31]\n",
      " [-0.57 -0.05 -0.29 -0.09  0.79  0.37 -0.08  0.45 -0.25  0.   -0.37 -0.12\n",
      "  -0.15 -0.18 -0.1 ]\n",
      " [ 0.39  0.4  -0.05 -0.03 -0.32 -0.4  -0.14 -0.21 -0.06 -0.14  0.08  0.12\n",
      "  -0.25  0.18 -0.04]\n",
      " [-0.33  0.19  0.12 -0.1  -0.14  0.62 -0.09  0.33 -0.24  0.47 -0.35  0.17\n",
      "  -0.15 -0.08  0.  ]\n",
      " [-0.32 -0.31  0.47 -0.35 -0.42  0.26 -0.3  -0.32 -0.05 -0.27  0.2  -0.44\n",
      "   0.32 -0.47 -0.36]\n",
      " [ 0.6   0.2  -0.66  0.14  0.07 -0.56  0.06 -0.1   0.08 -0.13  0.14  0.24\n",
      "  -0.49  0.38  0.19]\n",
      " [-0.04 -0.63 -0.33 -0.43  0.26 -0.16 -0.49  0.27 -0.38 -0.23 -0.26 -0.6\n",
      "   0.59 -0.32 -0.46]\n",
      " [ 0.39 -0.07 -0.1   0.15 -0.05 -0.21  0.1   0.1  -0.19 -0.05  0.01  0.17\n",
      "   0.11  0.25  0.11]\n",
      " [ 0.05 -0.17  0.12 -0.17 -0.31  0.08 -0.19  0.03 -0.31 -0.34  0.14 -0.01\n",
      "   0.03 -0.13 -0.16]\n",
      " [-0.51  0.53  0.22 -0.33  0.03  0.04 -0.34 -0.4   0.13 -0.36 -0.09 -0.17\n",
      "  -0.36 -0.43 -0.36]\n",
      " [-0.2   0.4  -0.08  0.12  0.46 -0.09  0.09  0.15  0.22  0.17 -0.29  0.13\n",
      "  -0.15  0.05  0.07]\n",
      " [-0.62  0.19  0.06 -0.35  0.32  0.21 -0.36 -0.41 -0.04 -0.13 -0.18 -0.6\n",
      "  -0.13 -0.41 -0.43]\n",
      " [-0.12 -0.45  0.09  0.04  0.05  0.33  0.1   0.43 -0.14  0.05 -0.06  0.1\n",
      "   0.34 -0.09  0.07]\n",
      " [-0.21 -0.2  -0.06 -0.51 -0.04 -0.18 -0.52 -0.26  0.11 -0.39 -0.13 -0.46\n",
      "   0.27 -0.55 -0.5 ]]\n",
      "-------------- layer 3 --------------\n",
      "calculated gradients:\n",
      "[[-0.12 -0.09 -0.1  -0.11 -0.08 -0.12 -0.12 -0.11 -0.09 -0.08 -0.1  -0.08\n",
      "  -0.09 -0.09 -0.08]\n",
      " [ 0.22  0.13  0.16  0.18  0.14  0.17  0.13  0.15  0.12  0.15  0.17  0.14\n",
      "   0.16  0.13  0.13]\n",
      " [-0.02  0.04 -0.04 -0.02 -0.02  0.02 -0.   -0.06 -0.01 -0.01 -0.   -0.01\n",
      "  -0.   -0.02  0.01]\n",
      " [-0.07 -0.02 -0.07 -0.07 -0.07 -0.06 -0.05 -0.1  -0.07 -0.06 -0.05 -0.05\n",
      "  -0.05 -0.06 -0.05]\n",
      " [ 0.07 -0.    0.06  0.11  0.06  0.08  0.03  0.06  0.05  0.03  0.07  0.05\n",
      "   0.09  0.02 -0.  ]\n",
      " [ 0.27  0.35  0.31  0.26  0.25  0.39  0.46  0.39  0.36  0.31  0.35  0.26\n",
      "   0.24  0.35  0.33]\n",
      " [-0.03 -0.05 -0.    0.02 -0.04 -0.02 -0.03 -0.02 -0.02  0.02 -0.03  0.02\n",
      "  -0.02 -0.06 -0.05]\n",
      " [ 0.08 -0.    0.04  0.05  0.05  0.04  0.07  0.11  0.03 -0.03  0.02 -0.01\n",
      "   0.05  0.09  0.02]\n",
      " [ 0.13  0.12  0.12  0.12  0.1   0.14  0.14  0.16  0.1   0.11  0.12  0.09\n",
      "   0.11  0.13  0.11]\n",
      " [ 0.33  0.28  0.35  0.33  0.33  0.24  0.37  0.39  0.31  0.33  0.35  0.26\n",
      "   0.23  0.33  0.29]]\n",
      "empirical gradients:\n",
      "[[ 2.44  1.78  2.01  2.28  1.67  2.36  2.39  2.22  1.77  1.79  2.12  1.64\n",
      "   1.89  1.88  1.6 ]\n",
      " [-1.39 -0.57 -0.79 -0.96 -0.73 -0.85 -0.34 -0.6  -0.46 -0.78 -0.85 -0.75\n",
      "  -0.88 -0.56 -0.63]\n",
      " [ 0.78  0.13  0.97  0.79  0.74  0.43  0.69  1.27  0.66  0.56  0.61  0.52\n",
      "   0.54  0.78  0.4 ]\n",
      " [ 1.43  0.73  1.44  1.52  1.29  1.34  1.3   1.91  1.34  1.2   1.28  1.1\n",
      "   1.16  1.27  1.04]\n",
      " [-0.01  0.59  0.02 -0.42 -0.03 -0.17  0.48  0.14  0.1   0.34 -0.02  0.02\n",
      "  -0.31  0.46  0.58]\n",
      " [-1.58 -2.29 -1.88 -1.53 -1.48 -2.52 -2.99 -2.47 -2.34 -1.91 -2.18 -1.65\n",
      "  -1.48 -2.22 -2.15]\n",
      " [ 1.1   1.2   0.71  0.49  1.07  1.02  1.22  1.    0.83  0.4   1.15  0.32\n",
      "   0.83  1.34  1.15]\n",
      " [-0.19  0.71  0.2   0.22  0.    0.26  0.05 -0.33  0.27  0.95  0.49  0.69\n",
      "   0.12 -0.26  0.35]\n",
      " [-0.55 -0.6  -0.53 -0.42 -0.4  -0.61 -0.53 -0.72 -0.29 -0.47 -0.43 -0.37\n",
      "  -0.5  -0.58 -0.5 ]\n",
      " [-2.03 -1.68 -2.16 -1.99 -2.13 -1.26 -2.29 -2.42 -1.89 -2.07 -2.17 -1.52\n",
      "  -1.36 -2.11 -1.84]]\n"
     ]
    }
   ],
   "source": [
    "checkgrad(dW, X, W, targ)"
   ]
  },
  {
   "cell_type": "markdown",
   "metadata": {},
   "source": [
    "## yay.\n",
    "The gradient seems to be right for the full MLP, so that's... progress!\n",
    "\n",
    "Let's try learning the problem then...."
   ]
  },
  {
   "cell_type": "code",
   "execution_count": 16,
   "metadata": {
    "collapsed": false
   },
   "outputs": [],
   "source": [
    "def learn(X, W, dW, targets, learning_rate=0.01, momentum=0.1, num_steps=1):\n",
    "    # note dW and prev_change are of the same size as W - we'll make space for them first\n",
    "    times, vals = [], []\n",
    "    next_time = 0\n",
    "    \n",
    "    prev_change = [np.array(None)]\n",
    "    for L in range(1,len(X)):\n",
    "        prev_change.append(0.0 * np.copy(W[L]))\n",
    "    \n",
    "    # now for the learning iterations\n",
    "    for step in range(num_steps):\n",
    "        X = forward_pass(X,W)\n",
    "        \n",
    "        # this is just record-keeping.......\n",
    "        if step == next_time:\n",
    "            good_sum, good_vec, dgood = calc_goodness(X[-1], targets)\n",
    "            vals.append(good_sum)\n",
    "            times.append(step)\n",
    "            next_time = step + 10\n",
    "\n",
    "        dW = backward_pass(X, W, dW, targets)\n",
    "        for L in range(1,len(X)):\n",
    "            change =  (learning_rate * dW[L]) + (momentum * prev_change[L])\n",
    "            W[L] = W[L] + change\n",
    "            prev_change[L] = change\n",
    "\n",
    "\n",
    "    return W, times, vals"
   ]
  },
  {
   "cell_type": "code",
   "execution_count": 17,
   "metadata": {
    "collapsed": false,
    "scrolled": true
   },
   "outputs": [
    {
     "data": {
      "text/plain": [
       "[<matplotlib.lines.Line2D at 0x10f10d3c8>]"
      ]
     },
     "execution_count": 17,
     "metadata": {},
     "output_type": "execute_result"
    },
    {
     "data": {
      "image/png": "[encoded data removed]",
      "text/plain": [
       "<matplotlib.figure.Figure at 0x10ed6df98>"
      ]
     },
     "metadata": {},
     "output_type": "display_data"
    }
   ],
   "source": [
    "W, times, vals = learn(X, W, dW, targ, learning_rate=0.01, momentum=0.5, num_steps=500)\n",
    "plt.plot(times, vals)"
   ]
  },
  {
   "cell_type": "markdown",
   "metadata": {},
   "source": [
    "# Discussion\n",
    "\n",
    "This code never got around to properly working correctly. I believe that the problem lies with pushing the gradients back through the softmax function. As shown in the previous section, the gradient of the softmax function is equal to $y_i(1 - y_i)$ on the diagonals and $-y_iy_j$ on the off-diagonals. I believe that my implementation captures this, although something that is yet unidentified is fundamentally wrong (at least judging by the error graph produced above).\n",
    "\n",
    "__Sigmoids vs. Relus__\n",
    "\n",
    "In light of the strife outlined above, I didn't get to produce an analysis of whether sigmoids or relus result in a higher classification accuracy, or enable the neural net to be trained quicker in this particular application on the digits data set. \n",
    "\n",
    "Theoretically, since the relu function has a non-saturating gradient, the network using relus will converge orders of magnitude faster (due to the gradients of any activations being equal to 1, instead of arbitrarily small values as in the case of the sigmoid). Results in literature confirm this faster convergence.\n",
    "\n",
    "As for whether a network trained with sigmoids or relus will converge on a _better_ solution? That's a non-trivial question. Intuitively, a larger gradient means larger updates to each weight per cycle (this can be seen by the delta rule from part 2 of the assignment). This is great in the early training stages, although leaves open the possibility of 'skipping past' optima (or oscillating around optima) in the final stages of training. Because of this fact, a decaying momentum rate  seems like a good idea when training a network using relus as the magnitude of weight updates can then be decreased over time."
   ]
  }
 ],
 "metadata": {
  "kernelspec": {
   "display_name": "Python 3",
   "language": "python",
   "name": "python3"
  },
  "language_info": {
   "codemirror_mode": {
    "name": "ipython",
    "version": 3
   },
   "file_extension": ".py",
   "mimetype": "text/x-python",
   "name": "python",
   "nbconvert_exporter": "python",
   "pygments_lexer": "ipython3",
   "version": "3.5.1"
  }
 },
 "nbformat": 4,
 "nbformat_minor": 0
}
